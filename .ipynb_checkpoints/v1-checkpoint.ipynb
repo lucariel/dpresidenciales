{
 "cells": [
  {
   "cell_type": "code",
   "execution_count": 1,
   "metadata": {},
   "outputs": [],
   "source": [
    "import os\n",
    "import pandas as pd\n",
    "import numpy as np"
   ]
  },
  {
   "cell_type": "code",
   "execution_count": 3,
   "metadata": {},
   "outputs": [
    {
     "data": {
      "text/plain": [
       "'/media/lucariel/Cosas/Proyectos/dpresidenciales/data/sesiones_ordinarias'"
      ]
     },
     "execution_count": 3,
     "metadata": {},
     "output_type": "execute_result"
    }
   ],
   "source": []
  },
  {
   "cell_type": "code",
   "execution_count": 4,
   "metadata": {},
   "outputs": [],
   "source": [
    "path=os.path.join(os.getcwd(),\"data\",\"sesiones_ordinarias\")\n",
    "files = [os.path.join(path,i) for i in os.listdir(path)]\n",
    "dpath = '/media/lucariel/Cosas/Proyectos/discursos_pres/sesiones git/data/sess_limp/'\n",
    "dfiles = [os.path.join(dpath,i) for i in os.listdir(path)]"
   ]
  },
  {
   "cell_type": "code",
   "execution_count": 5,
   "metadata": {},
   "outputs": [
    {
     "data": {
      "text/plain": [
       "['1887-miguel_juarez_celman.txt',\n",
       " '1918-hipolito_yrigoyen.txt',\n",
       " '1959-arturo_frondizi.txt',\n",
       " '1942-ramon_castillo.txt',\n",
       " '1866-bartolome_mitre.txt',\n",
       " '1949-juan_peron.txt',\n",
       " '1891-carlos_pellegrini.txt',\n",
       " '1889-miguel_juarez_celman.txt',\n",
       " '1854-justo_jose_de_urquiza.txt',\n",
       " '2002-eduardo_duhalde.txt',\n",
       " '1895-jose_evaristo_uriburu.txt',\n",
       " '1863-bartolome_mitre.txt',\n",
       " '1933-agustin_p_justo.txt',\n",
       " '1860-santiago_derqui.txt',\n",
       " '1988-raul_alfonsin.txt',\n",
       " '1940-roberto_ortiz.txt',\n",
       " '1913-roque_saenz_penia.txt',\n",
       " '2015-cristina_fernandez_de_kirchner.txt',\n",
       " '1992-carlos_menem.txt',\n",
       " '1948-juan_peron.txt',\n",
       " '2016-mauricio_macri.txt',\n",
       " '1867-bartolome_mitre.txt',\n",
       " '1880-nicolas_avellaneda.txt',\n",
       " '1986-raul_alfonsin.txt',\n",
       " '1929-hipolito_yrigoyen.txt',\n",
       " '1955-juan_peron.txt',\n",
       " '1888-miguel_juarez_celman.txt',\n",
       " '1869-domingo_f_sarmiento.txt',\n",
       " '1901-julio_a_roca.txt',\n",
       " '1999-carlos_menem.txt',\n",
       " '2005-nestor_kirchner.txt',\n",
       " '2012-cristina_fernandez_de_kirchner.txt',\n",
       " '1994-carlos_menem.txt',\n",
       " '1989-raul_alfonsin.txt',\n",
       " '1858-justo_jose_de_urquiza.txt',\n",
       " '1964-arturo_illia.txt',\n",
       " '2011-cristina_fernandez_de_kirchner.txt',\n",
       " '1987-raul_alfonsin.txt',\n",
       " '1939-roberto_ortiz.txt',\n",
       " '1952-juan_peron.txt',\n",
       " '1876-nicolas_avellaneda.txt',\n",
       " '1871-domingo_f_sarmiento.txt',\n",
       " '1875-nicolas_avellaneda.txt',\n",
       " '1926-marcelo_torcuato_de_alvear.txt',\n",
       " '1990-carlos_menem.txt',\n",
       " '2000-fernando_de_la_rua.txt',\n",
       " '2019-mauricio_macri.txt',\n",
       " '2009-cristina_fernandez_de_kirchner.txt',\n",
       " '1975-maria_estela_martinez_de_peron.txt',\n",
       " '1947-juan_peron.txt',\n",
       " '1904-julio_a_roca.txt',\n",
       " '1861-santiago_derqui.txt',\n",
       " '2004-nestor_kirchner.txt',\n",
       " '2010-cristina_fernandez_de_kirchner.txt',\n",
       " '1856-justo_jose_de_urquiza.txt',\n",
       " '1865-bartolome_mitre.txt',\n",
       " '1991-carlos_menem.txt',\n",
       " '1984-raul_alfonsin.txt',\n",
       " '1885-julio_A_Roca.txt',\n",
       " '2017-mauricio_macri.txt',\n",
       " '1995-carlos_menem.txt',\n",
       " '1932-agustin_p_justo.txt',\n",
       " '1997-carlos_menem.txt',\n",
       " '1934-agustin_p_justo.txt',\n",
       " '1916-victorino_dela_plaza.txt',\n",
       " '1879-nicolas_avellaneda.txt',\n",
       " '1917-hipolito_yrigoyen.txt',\n",
       " '1965-arturo_illia.txt',\n",
       " '2014-cristina_fernandez_de_kirchner.txt',\n",
       " '2001-fernando_de_la_rua.txt',\n",
       " '1890-miguel_juarez_celman.txt',\n",
       " '1996-carlos_menem.txt',\n",
       " '1950-juan_peron.txt',\n",
       " '1920-hipolito_yrigoyen.txt',\n",
       " '1882-julio_A_Roca.txt',\n",
       " '1870-domingo_f_sarmiento.txt',\n",
       " '1946-juan_peron.txt',\n",
       " '2013-cristina_fernandez_de_kirchner.txt',\n",
       " '1873-domingo_f_sarmiento.txt',\n",
       " '1985-raul_alfonsin.txt',\n",
       " '2003-eduardo_duhalde.txt',\n",
       " '1884-julio_A_Roca.txt',\n",
       " '1906-jose_figueroa_alcorta.txt',\n",
       " '1974-juan_domingo_peron.txt',\n",
       " '1935-agustin_p_justo.txt',\n",
       " '1878-nicolas_avellaneda.txt',\n",
       " '1874-domingo_f_sarmiento.txt',\n",
       " '1877-nicolas_avellaneda.txt',\n",
       " '1941-roberto_ortiz.txt',\n",
       " '1914-roque_saenz_penia.txt',\n",
       " '1915-roque_saenz_penia.txt',\n",
       " '1868-bartolome_mitre.txt',\n",
       " '1998-carlos_menem.txt',\n",
       " '1886-julio_A_Roca.txt',\n",
       " '1953-juan_peron.txt',\n",
       " '1855-justo_jose_de_urquiza.txt',\n",
       " '1966-arturo_illia.txt',\n",
       " '.git',\n",
       " '1881-julio_A_Roca.txt',\n",
       " '1936-agustin_p_justo.txt',\n",
       " '1857-justo_jose_de_urquiza.txt',\n",
       " '1993-carlos_menem.txt',\n",
       " '1872-domingo_f_sarmiento.txt',\n",
       " '1937-agustin_p_justo.txt',\n",
       " '2008-cristina_fernandez_de_kirchner.txt',\n",
       " '2018-mauricio_macri.txt',\n",
       " '2006-nestor_kirchner.txt',\n",
       " '2007-nestor_kirchner.txt',\n",
       " '1960-arturo_frondizi.txt',\n",
       " '1951-juan_peron.txt',\n",
       " '1864-bartolome_mitre.txt',\n",
       " '1899-julio_a_roca.txt',\n",
       " '1859-justo_jose_de_urquiza.txt',\n",
       " '1961-arturo_frondizi.txt']"
      ]
     },
     "execution_count": 5,
     "metadata": {},
     "output_type": "execute_result"
    }
   ],
   "source": [
    "os.listdir(path)"
   ]
  },
  {
   "cell_type": "code",
   "execution_count": 6,
   "metadata": {},
   "outputs": [],
   "source": [
    "import hunspell\n",
    "diccionario = hunspell.HunSpell('/usr/share/hunspell/es_ANY.dic',\n",
    "                              '/usr/share/hunspell/es_ANY.aff')"
   ]
  },
  {
   "cell_type": "code",
   "execution_count": null,
   "metadata": {},
   "outputs": [],
   "source": []
  },
  {
   "cell_type": "code",
   "execution_count": null,
   "metadata": {},
   "outputs": [
    {
     "name": "stdout",
     "output_type": "stream",
     "text": [
      "0.0\n"
     ]
    }
   ],
   "source": [
    "\n",
    "for k in range(len(files)):\n",
    "    print(k/len(files))\n",
    "    f = open(files[k], \"r\").read()\n",
    "    tx = f.replace(\"-\", \"\").replace(\"\\n\", \" \")\n",
    "    tx=tx.split(' ')\n",
    "    a=[]\n",
    "    for i in tx:\n",
    "        if diccionario.spell(i):\n",
    "            a.append(i)\n",
    "        else:\n",
    "            try:\n",
    "                a.append(diccionario.suggest(i)[0])\n",
    "            except:\n",
    "                a.append(i)\n",
    "    b=' '.join(a)\n",
    "    q= open(os.listdir(path)[k],\"w+\")\n",
    "    q.write(b)"
   ]
  },
  {
   "cell_type": "code",
   "execution_count": null,
   "metadata": {},
   "outputs": [],
   "source": [
    "\n",
    "d = str(dfiles[k])\n",
    "q= open(os.listdir(path)[k],\"w+\")"
   ]
  },
  {
   "cell_type": "code",
   "execution_count": null,
   "metadata": {},
   "outputs": [],
   "source": [
    "b=' '.join(a)\n",
    "f= open(\"guru99.txt\",\"w+\")\n",
    "f.write(b)\n"
   ]
  },
  {
   "cell_type": "code",
   "execution_count": null,
   "metadata": {},
   "outputs": [],
   "source": [
    "a"
   ]
  },
  {
   "cell_type": "code",
   "execution_count": null,
   "metadata": {},
   "outputs": [],
   "source": []
  }
 ],
 "metadata": {
  "kernelspec": {
   "display_name": "Python 3",
   "language": "python",
   "name": "python3"
  },
  "language_info": {
   "codemirror_mode": {
    "name": "ipython",
    "version": 3
   },
   "file_extension": ".py",
   "mimetype": "text/x-python",
   "name": "python",
   "nbconvert_exporter": "python",
   "pygments_lexer": "ipython3",
   "version": "3.7.3"
  }
 },
 "nbformat": 4,
 "nbformat_minor": 2
}
